{
 "cells": [
  {
   "cell_type": "code",
   "execution_count": 1,
   "metadata": {},
   "outputs": [],
   "source": [
    "import pandas as pd\n",
    "import numpy as np\n",
    "from datetime import datetime\n",
    "from data_processing import *"
   ]
  },
  {
   "cell_type": "code",
   "execution_count": 2,
   "metadata": {},
   "outputs": [],
   "source": [
    "# load training and test batches\n",
    "train_batches, test_batch = load_batches()\n",
    "\n",
    "# choose airplanes label (0)\n",
    "train_x, train_y = process_batch(combine_batches(train_batches), 0, 5000)\n",
    "test_x, test_y = process_batch(test_batch, 0, 1000)"
   ]
  },
  {
   "cell_type": "code",
   "execution_count": 3,
   "metadata": {},
   "outputs": [],
   "source": [
    "import tensorflow as tf\n",
    "from tensorboard.plugins.hparams import api as hp\n",
    "import tensorflow as tf\n",
    "from tensorflow.keras import Input, layers, Sequential, optimizers, losses, callbacks"
   ]
  },
  {
   "cell_type": "code",
   "execution_count": 4,
   "metadata": {},
   "outputs": [],
   "source": [
    "# hyperparameter values\n",
    "HP_NUM_UNITS_1 = hp.HParam('num_units_1', hp.Discrete([24, 32]))\n",
    "HP_NUM_UNITS_2 = hp.HParam('num_units_2', hp.Discrete([48, 56]))\n",
    "HP_NUM_UNITS_3 = hp.HParam('num_units_3', hp.Discrete([64, 72]))\n",
    "HP_NUM_UNITS_4 = hp.HParam('num_units_4', hp.Discrete([84, 96]))\n",
    "HP_DROPOUT = hp.HParam('dropout', hp.Discrete([0.15, 0.2]))\n",
    "\n",
    "METRIC_ACCURACY = 'accuracy'"
   ]
  },
  {
   "cell_type": "code",
   "execution_count": null,
   "metadata": {},
   "outputs": [],
   "source": [
    "date = datetime.now().strftime(\"%Y-%m-%d-%H-%M-%S\")"
   ]
  },
  {
   "cell_type": "code",
   "execution_count": 5,
   "metadata": {},
   "outputs": [],
   "source": [
    "# configure hyperparameters and accuracy metric\n",
    "with tf.summary.create_file_writer('logs/hparam_tuning/' + date).as_default():\n",
    "    hp.hparams_config(\n",
    "        hparams=[\n",
    "            HP_NUM_UNITS_1,\n",
    "            HP_NUM_UNITS_2,\n",
    "            HP_NUM_UNITS_3,\n",
    "            HP_NUM_UNITS_4,\n",
    "            HP_DROPOUT,\n",
    "            ],\n",
    "        metrics=[hp.Metric(METRIC_ACCURACY, display_name='Accuracy')],\n",
    "    )"
   ]
  },
  {
   "cell_type": "code",
   "execution_count": 6,
   "metadata": {},
   "outputs": [],
   "source": [
    "def train_test_model(hparams):\n",
    "    # augment input data randomly\n",
    "    data_augmentation = Sequential(\n",
    "    [\n",
    "        layers.RandomFlip(\"horizontal\",\n",
    "        input_shape=(32,32,3)),\n",
    "        layers.RandomRotation(0.1),\n",
    "        layers.RandomZoom(0.1),\n",
    "    ]\n",
    "    )\n",
    "\n",
    "    model = Sequential(name=\"Image_Recognition_Model\")\n",
    "    model.add(Input(shape=(32,32,3,))) # Input layer\n",
    "\n",
    "    model.add(data_augmentation)\n",
    "    model.add(layers.Rescaling(scale=1./255, name=\"Normaliser\")) # normalisation layer\n",
    "\n",
    "    model.add(layers.Conv2D(hparams[HP_NUM_UNITS_1], 3, padding='same', activation='relu'))\n",
    "    model.add(layers.MaxPooling2D())\n",
    "\n",
    "    model.add(layers.Conv2D(hparams[HP_NUM_UNITS_2], 3, padding='same', activation='relu'))\n",
    "    model.add(layers.MaxPooling2D())\n",
    "\n",
    "    model.add(layers.Conv2D(hparams[HP_NUM_UNITS_3], 3, padding='same', activation='relu'))\n",
    "    model.add(layers.MaxPooling2D())\n",
    "\n",
    "    model.add(layers.Dropout(hparams[HP_DROPOUT]))\n",
    "\n",
    "    model.add(layers.Flatten())\n",
    "\n",
    "    model.add(layers.Dense(hparams[HP_NUM_UNITS_4], activation='relu'))\n",
    "    model.add(layers.Dense(2))\n",
    "    \n",
    "    model.compile(\n",
    "        optimizer='adam',\n",
    "        loss=losses.SparseCategoricalCrossentropy(from_logits=True),\n",
    "        metrics=['accuracy']\n",
    "    )\n",
    "\n",
    "    model.fit(\n",
    "        train_x,\n",
    "        train_y,\n",
    "        epochs=5,\n",
    "        verbose=0,\n",
    "    )\n",
    "\n",
    "    _, accuracy = model.evaluate(test_x, test_y)\n",
    "\n",
    "    return accuracy"
   ]
  },
  {
   "cell_type": "code",
   "execution_count": 7,
   "metadata": {},
   "outputs": [],
   "source": [
    "def run(run_dir, hparams):\n",
    "    with tf.summary.create_file_writer(run_dir).as_default():\n",
    "        hp.hparams(hparams)  # record the values used in this trial\n",
    "        accuracy = train_test_model(hparams)\n",
    "        tf.summary.scalar(METRIC_ACCURACY, accuracy, step=1)"
   ]
  },
  {
   "cell_type": "code",
   "execution_count": 8,
   "metadata": {},
   "outputs": [
    {
     "name": "stdout",
     "output_type": "stream",
     "text": [
      "--- Starting trial: run-0\n",
      "{'num_units_1': 24, 'num_units_2': 48, 'num_units_3': 64, 'num_units_4': 84, 'dropout': 0.2}\n",
      "63/63 [==============================] - 1s 9ms/step - loss: 0.3609 - accuracy: 0.8455\n",
      "--- Starting trial: run-1\n",
      "{'num_units_1': 24, 'num_units_2': 48, 'num_units_3': 64, 'num_units_4': 96, 'dropout': 0.2}\n",
      "63/63 [==============================] - 1s 10ms/step - loss: 0.3575 - accuracy: 0.8420\n",
      "--- Starting trial: run-2\n",
      "{'num_units_1': 24, 'num_units_2': 48, 'num_units_3': 72, 'num_units_4': 84, 'dropout': 0.2}\n",
      "63/63 [==============================] - 1s 11ms/step - loss: 0.3686 - accuracy: 0.8390\n",
      "--- Starting trial: run-3\n",
      "{'num_units_1': 24, 'num_units_2': 48, 'num_units_3': 72, 'num_units_4': 96, 'dropout': 0.2}\n",
      "63/63 [==============================] - 1s 11ms/step - loss: 0.3663 - accuracy: 0.8460\n",
      "--- Starting trial: run-4\n",
      "{'num_units_1': 24, 'num_units_2': 56, 'num_units_3': 64, 'num_units_4': 84, 'dropout': 0.2}\n",
      "63/63 [==============================] - 1s 13ms/step - loss: 0.3560 - accuracy: 0.8465\n",
      "--- Starting trial: run-5\n",
      "{'num_units_1': 24, 'num_units_2': 56, 'num_units_3': 64, 'num_units_4': 96, 'dropout': 0.2}\n",
      "63/63 [==============================] - 1s 12ms/step - loss: 0.3601 - accuracy: 0.8460\n",
      "--- Starting trial: run-6\n",
      "{'num_units_1': 24, 'num_units_2': 56, 'num_units_3': 72, 'num_units_4': 84, 'dropout': 0.2}\n",
      "63/63 [==============================] - 1s 17ms/step - loss: 0.3796 - accuracy: 0.8305\n",
      "--- Starting trial: run-7\n",
      "{'num_units_1': 24, 'num_units_2': 56, 'num_units_3': 72, 'num_units_4': 96, 'dropout': 0.2}\n",
      "63/63 [==============================] - 1s 11ms/step - loss: 0.3503 - accuracy: 0.8500\n",
      "--- Starting trial: run-8\n",
      "{'num_units_1': 32, 'num_units_2': 48, 'num_units_3': 64, 'num_units_4': 84, 'dropout': 0.2}\n",
      "63/63 [==============================] - 1s 10ms/step - loss: 0.3438 - accuracy: 0.8500\n",
      "--- Starting trial: run-9\n",
      "{'num_units_1': 32, 'num_units_2': 48, 'num_units_3': 64, 'num_units_4': 96, 'dropout': 0.2}\n",
      "63/63 [==============================] - 1s 10ms/step - loss: 0.3480 - accuracy: 0.8470\n",
      "--- Starting trial: run-10\n",
      "{'num_units_1': 32, 'num_units_2': 48, 'num_units_3': 72, 'num_units_4': 84, 'dropout': 0.2}\n",
      "63/63 [==============================] - 1s 10ms/step - loss: 0.4390 - accuracy: 0.8100\n",
      "--- Starting trial: run-11\n",
      "{'num_units_1': 32, 'num_units_2': 48, 'num_units_3': 72, 'num_units_4': 96, 'dropout': 0.2}\n",
      "63/63 [==============================] - 1s 14ms/step - loss: 0.3899 - accuracy: 0.8325\n",
      "--- Starting trial: run-12\n",
      "{'num_units_1': 32, 'num_units_2': 56, 'num_units_3': 64, 'num_units_4': 84, 'dropout': 0.2}\n",
      "63/63 [==============================] - 1s 13ms/step - loss: 0.3800 - accuracy: 0.8405\n",
      "--- Starting trial: run-13\n",
      "{'num_units_1': 32, 'num_units_2': 56, 'num_units_3': 64, 'num_units_4': 96, 'dropout': 0.2}\n",
      "63/63 [==============================] - 1s 14ms/step - loss: 0.3400 - accuracy: 0.8480\n",
      "--- Starting trial: run-14\n",
      "{'num_units_1': 32, 'num_units_2': 56, 'num_units_3': 72, 'num_units_4': 84, 'dropout': 0.2}\n",
      "63/63 [==============================] - 1s 14ms/step - loss: 0.3854 - accuracy: 0.8325\n",
      "--- Starting trial: run-15\n",
      "{'num_units_1': 32, 'num_units_2': 56, 'num_units_3': 72, 'num_units_4': 96, 'dropout': 0.2}\n",
      "63/63 [==============================] - 1s 11ms/step - loss: 0.3492 - accuracy: 0.8490\n"
     ]
    }
   ],
   "source": [
    "session_num = 0\n",
    "\n",
    "# loop through possible combinations of hyperparameter values\n",
    "for num_units_1 in HP_NUM_UNITS_1.domain.values:\n",
    "    for num_units_2 in HP_NUM_UNITS_2.domain.values:\n",
    "        for num_units_3 in HP_NUM_UNITS_3.domain.values:\n",
    "            for num_units_4 in HP_NUM_UNITS_4.domain.values:\n",
    "                for dropout in HP_DROPOUT.domain.values:\n",
    "                    hparams = {\n",
    "                        HP_NUM_UNITS_1: num_units_1,\n",
    "                        HP_NUM_UNITS_2: num_units_2,\n",
    "                        HP_NUM_UNITS_3: num_units_3,\n",
    "                        HP_NUM_UNITS_4: num_units_4,\n",
    "                        HP_DROPOUT: dropout,\n",
    "                    }\n",
    "                    run_name = \"run-%d\" % session_num\n",
    "                    print('--- Starting trial: %s' % run_name)\n",
    "                    print({h.name: hparams[h] for h in hparams})\n",
    "                    run('logs/hparam_tuning/' + date + '/' + run_name, hparams)\n",
    "                    session_num += 1\n"
   ]
  }
 ],
 "metadata": {
  "kernelspec": {
   "display_name": "Python 3.10.5 ('.venv': venv)",
   "language": "python",
   "name": "python3"
  },
  "language_info": {
   "codemirror_mode": {
    "name": "ipython",
    "version": 3
   },
   "file_extension": ".py",
   "mimetype": "text/x-python",
   "name": "python",
   "nbconvert_exporter": "python",
   "pygments_lexer": "ipython3",
   "version": "3.10.5"
  },
  "orig_nbformat": 4,
  "vscode": {
   "interpreter": {
    "hash": "8157f38f633bba20313ed2ae71949e0e2746322d466fd2a849ea64b5e469c87f"
   }
  }
 },
 "nbformat": 4,
 "nbformat_minor": 2
}
