{
 "cells": [
  {
   "cell_type": "code",
   "execution_count": 20,
   "metadata": {},
   "outputs": [],
   "source": [
    "from tensorflow.keras.models import load_model\n",
    "import numpy as np\n",
    "import tensorflow as tf\n",
    "\n",
    "import matplotlib.pyplot as plt"
   ]
  },
  {
   "cell_type": "code",
   "execution_count": 21,
   "metadata": {},
   "outputs": [
    {
     "name": "stdout",
     "output_type": "stream",
     "text": [
      "Model: \"Image_Recognition_Model\"\n",
      "_________________________________________________________________\n",
      " Layer (type)                Output Shape              Param #   \n",
      "=================================================================\n",
      " sequential_2 (Sequential)   (None, 32, 32, 3)         0         \n",
      "                                                                 \n",
      " Normaliser (Rescaling)      (None, 32, 32, 3)         0         \n",
      "                                                                 \n",
      " conv2d_6 (Conv2D)           (None, 32, 32, 32)        896       \n",
      "                                                                 \n",
      " max_pooling2d_6 (MaxPooling  (None, 16, 16, 32)       0         \n",
      " 2D)                                                             \n",
      "                                                                 \n",
      " conv2d_7 (Conv2D)           (None, 16, 16, 48)        13872     \n",
      "                                                                 \n",
      " max_pooling2d_7 (MaxPooling  (None, 8, 8, 48)         0         \n",
      " 2D)                                                             \n",
      "                                                                 \n",
      " conv2d_8 (Conv2D)           (None, 8, 8, 64)          27712     \n",
      "                                                                 \n",
      " max_pooling2d_8 (MaxPooling  (None, 4, 4, 64)         0         \n",
      " 2D)                                                             \n",
      "                                                                 \n",
      " dropout_2 (Dropout)         (None, 4, 4, 64)          0         \n",
      "                                                                 \n",
      " flatten_2 (Flatten)         (None, 1024)              0         \n",
      "                                                                 \n",
      " dense_4 (Dense)             (None, 104)               106600    \n",
      "                                                                 \n",
      " dense_5 (Dense)             (None, 2)                 210       \n",
      "                                                                 \n",
      "=================================================================\n",
      "Total params: 149,290\n",
      "Trainable params: 149,290\n",
      "Non-trainable params: 0\n",
      "_________________________________________________________________\n"
     ]
    }
   ],
   "source": [
    "model = load_model(\"output/my_model5\")\n",
    "\n",
    "model.summary()"
   ]
  },
  {
   "cell_type": "code",
   "execution_count": 22,
   "metadata": {},
   "outputs": [],
   "source": [
    "def unpickle(file):\n",
    "    import pickle\n",
    "    with open(file, 'rb') as fo:\n",
    "        dict = pickle.load(fo, encoding='bytes')\n",
    "    return dict"
   ]
  },
  {
   "cell_type": "code",
   "execution_count": 23,
   "metadata": {},
   "outputs": [],
   "source": [
    "def reshape_image(data):\n",
    "    data = np.reshape(data, (3,32,32))\n",
    "    data = np.moveaxis(data, 0, -1)\n",
    "\n",
    "    return data"
   ]
  },
  {
   "cell_type": "code",
   "execution_count": 24,
   "metadata": {},
   "outputs": [],
   "source": [
    "def filter_classes(batch, label):\n",
    "    x = []\n",
    "    y = []\n",
    "\n",
    "    true_count = 0\n",
    "    false_count = 0\n",
    "\n",
    "    labels = np.array([int(i == label) for i in batch[b'labels']])\n",
    "\n",
    "    _, counts = np.unique(labels, return_counts=True)\n",
    "    n = min(counts)\n",
    "\n",
    "    for i in range(len(batch[b'data'])):\n",
    "        if batch[b'labels'][i] == label:\n",
    "            if true_count < n:\n",
    "                x.append(reshape_image(batch[b'data'][i]))\n",
    "                y.append(1)\n",
    "                true_count += 1\n",
    "        else:\n",
    "            if false_count < n:\n",
    "                x.append(reshape_image(batch[b'data'][i]))\n",
    "                y.append(0)\n",
    "                false_count += 1\n",
    "\n",
    "    return np.array(x), np.array(y)"
   ]
  },
  {
   "cell_type": "code",
   "execution_count": 25,
   "metadata": {},
   "outputs": [],
   "source": [
    "test_batch = unpickle('cifar-10-batches-py/test_batch')"
   ]
  },
  {
   "cell_type": "code",
   "execution_count": 26,
   "metadata": {},
   "outputs": [],
   "source": [
    "test_x, test_y = filter_classes(test_batch, 0)"
   ]
  },
  {
   "cell_type": "code",
   "execution_count": 27,
   "metadata": {},
   "outputs": [
    {
     "name": "stdout",
     "output_type": "stream",
     "text": [
      "63/63 [==============================] - 1s 11ms/step - loss: 0.2218 - accuracy: 0.9135\n"
     ]
    },
    {
     "data": {
      "text/plain": [
       "[0.22181959450244904, 0.9135000109672546]"
      ]
     },
     "execution_count": 27,
     "metadata": {},
     "output_type": "execute_result"
    }
   ],
   "source": [
    "model.evaluate(test_x, test_y)"
   ]
  },
  {
   "cell_type": "code",
   "execution_count": 28,
   "metadata": {},
   "outputs": [],
   "source": [
    "def probability(model, data):\n",
    "    return np.array(tf.nn.softmax(model.predict(data.reshape(1,32,32,3)))).reshape(2,)\n",
    "\n",
    "def show_image(axs, data):\n",
    "    axs.imshow(data)\n",
    "    axs.axis('off')\n",
    "\n",
    "def print_results(prob):\n",
    "    if prob[0] > 0.5:\n",
    "        print(\"This image is most likely not a plane with {:.2f} percent confidence.\".format(prob[0]*100))\n",
    "    else:\n",
    "        print(\"This image is most likely a plane with {:.2f} percent confidence.\".format(prob[1]*100))"
   ]
  },
  {
   "cell_type": "code",
   "execution_count": 29,
   "metadata": {},
   "outputs": [
    {
     "name": "stdout",
     "output_type": "stream",
     "text": [
      "1/1 [==============================] - 0s 130ms/step\n",
      "This image is most likely not a plane with 99.95 percent confidence.\n"
     ]
    },
    {
     "data": {
      "image/png": "[encoded data removed]",
      "text/plain": [
       "<Figure size 640x480 with 1 Axes>"
      ]
     },
     "metadata": {},
     "output_type": "display_data"
    }
   ],
   "source": [
    "chosen_index = 12\n",
    "prob = probability(model, test_x[chosen_index])\n",
    "show_image(plt, test_x[chosen_index])\n",
    "print_results(prob)"
   ]
  },
  {
   "cell_type": "code",
   "execution_count": 30,
   "metadata": {},
   "outputs": [
    {
     "name": "stdout",
     "output_type": "stream",
     "text": [
      "1/1 [==============================] - 0s 25ms/step\n",
      "This image is most likely a plane with 97.44 percent confidence.\n"
     ]
    },
    {
     "data": {
      "image/png": "[encoded data removed]",
      "text/plain": [
       "<Figure size 640x480 with 1 Axes>"
      ]
     },
     "metadata": {},
     "output_type": "display_data"
    }
   ],
   "source": [
    "i = 0\n",
    "count = 0\n",
    "while not test_y[i]:\n",
    "    i += 1\n",
    "prob = probability(model, test_x[i])\n",
    "print_results(prob)\n",
    "show_image(plt, test_x[i])"
   ]
  },
  {
   "cell_type": "code",
   "execution_count": 31,
   "metadata": {},
   "outputs": [],
   "source": [
    "from PIL import Image\n",
    "from urllib.request import urlopen\n",
    "\n",
    "def evaluate_image(model, url):\n",
    "    img = Image.open(urlopen(url))\n",
    "    img_resized = np.asarray(img.resize((32, 32)))\n",
    "    \n",
    "    prob = probability(model, img_resized)\n",
    "\n",
    "    show_image(plt, img_resized)\n",
    "\n",
    "    print_results(prob)\n",
    "    "
   ]
  },
  {
   "cell_type": "code",
   "execution_count": 32,
   "metadata": {},
   "outputs": [
    {
     "name": "stdout",
     "output_type": "stream",
     "text": [
      "1/1 [==============================] - 0s 26ms/step\n",
      "This image is most likely a plane with 99.98 percent confidence.\n"
     ]
    },
    {
     "data": {
      "image/png": "[encoded data removed]",
      "text/plain": [
       "<Figure size 640x480 with 1 Axes>"
      ]
     },
     "metadata": {},
     "output_type": "display_data"
    }
   ],
   "source": [
    "evaluate_image(model, \"https://media.istockphoto.com/id/501147980/es/foto/qantas-airways-airbus-a380-vh-oqf-despegar.webp?s=612x612&w=is&k=20&c=G0_4dlCUzEatl6ytQ7yOjzU2zn0HL6_XQ3_WaF2Jmzk=\")"
   ]
  },
  {
   "cell_type": "code",
   "execution_count": 33,
   "metadata": {},
   "outputs": [
    {
     "name": "stdout",
     "output_type": "stream",
     "text": [
      "1/1 [==============================] - 0s 23ms/step\n",
      "This image is most likely not a plane with 90.12 percent confidence.\n"
     ]
    },
    {
     "data": {
      "image/png": "[encoded data removed]",
      "text/plain": [
       "<Figure size 640x480 with 1 Axes>"
      ]
     },
     "metadata": {},
     "output_type": "display_data"
    }
   ],
   "source": [
    "evaluate_image(model, \"https://images.freeimages.com/images/large-previews/566/green-frog-1361810.jpg\")"
   ]
  },
  {
   "cell_type": "code",
   "execution_count": 34,
   "metadata": {},
   "outputs": [
    {
     "name": "stdout",
     "output_type": "stream",
     "text": [
      "1/1 [==============================] - 0s 27ms/step\n",
      "This image is most likely not a plane with 80.86 percent confidence.\n"
     ]
    },
    {
     "data": {
      "image/png": "[encoded data removed]",
      "text/plain": [
       "<Figure size 640x480 with 1 Axes>"
      ]
     },
     "metadata": {},
     "output_type": "display_data"
    }
   ],
   "source": [
    "evaluate_image(model, \"https://images.freeimages.com/images/large-previews/70b/bike-red-1423575.jpg\")"
   ]
  },
  {
   "cell_type": "code",
   "execution_count": 35,
   "metadata": {},
   "outputs": [
    {
     "name": "stdout",
     "output_type": "stream",
     "text": [
      "1/1 [==============================] - 0s 23ms/step\n",
      "This image is most likely a plane with 100.00 percent confidence.\n"
     ]
    },
    {
     "data": {
      "image/png": "[encoded data removed]",
      "text/plain": [
       "<Figure size 640x480 with 1 Axes>"
      ]
     },
     "metadata": {},
     "output_type": "display_data"
    }
   ],
   "source": [
    "evaluate_image(model, \"https://images.freeimages.com/images/large-previews/429/plane-1449679.jpg\")"
   ]
  },
  {
   "cell_type": "code",
   "execution_count": 36,
   "metadata": {},
   "outputs": [
    {
     "name": "stdout",
     "output_type": "stream",
     "text": [
      "1/1 [==============================] - 0s 23ms/step\n",
      "This image is most likely not a plane with 89.08 percent confidence.\n"
     ]
    },
    {
     "data": {
      "image/png": "[encoded data removed]",
      "text/plain": [
       "<Figure size 640x480 with 1 Axes>"
      ]
     },
     "metadata": {},
     "output_type": "display_data"
    }
   ],
   "source": [
    "evaluate_image(model, \"https://images.freeimages.com/images/large-previews/e07/car-1568850.jpg\")"
   ]
  }
 ],
 "metadata": {
  "kernelspec": {
   "display_name": "Python 3.10.5 ('.env': venv)",
   "language": "python",
   "name": "python3"
  },
  "language_info": {
   "codemirror_mode": {
    "name": "ipython",
    "version": 3
   },
   "file_extension": ".py",
   "mimetype": "text/x-python",
   "name": "python",
   "nbconvert_exporter": "python",
   "pygments_lexer": "ipython3",
   "version": "3.10.5"
  },
  "orig_nbformat": 4,
  "vscode": {
   "interpreter": {
    "hash": "adffc049c0057b7f9c7b7f1d164dfcad4547c7e894a42e2b6795b142f0f78ed4"
   }
  }
 },
 "nbformat": 4,
 "nbformat_minor": 2
}
